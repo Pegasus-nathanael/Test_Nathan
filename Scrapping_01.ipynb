{
  "nbformat": 4,
  "nbformat_minor": 0,
  "metadata": {
    "colab": {
      "provenance": [],
      "authorship_tag": "ABX9TyO03SRLik9ovpYctdUqX7Sc",
      "include_colab_link": true
    },
    "kernelspec": {
      "name": "python3",
      "display_name": "Python 3"
    },
    "language_info": {
      "name": "python"
    }
  },
  "cells": [
    {
      "cell_type": "markdown",
      "metadata": {
        "id": "view-in-github",
        "colab_type": "text"
      },
      "source": [
        "<a href=\"https://colab.research.google.com/github/Pegasus-nathanael/Test_Nathan/blob/main/Scrapping_01.ipynb\" target=\"_parent\"><img src=\"https://colab.research.google.com/assets/colab-badge.svg\" alt=\"Open In Colab\"/></a>"
      ]
    },
    {
      "cell_type": "code",
      "execution_count": 70,
      "metadata": {
        "id": "q5yg729ZTcN8",
        "outputId": "60ff820c-abe4-4509-a908-feda85c2d070",
        "colab": {
          "base_uri": "https://localhost:8080/"
        }
      },
      "outputs": [
        {
          "output_type": "stream",
          "name": "stdout",
          "text": [
            "Requirement already satisfied: beautifulsoup4 in /usr/local/lib/python3.11/dist-packages (4.13.3)\n",
            "Requirement already satisfied: soupsieve>1.2 in /usr/local/lib/python3.11/dist-packages (from beautifulsoup4) (2.6)\n",
            "Requirement already satisfied: typing-extensions>=4.0.0 in /usr/local/lib/python3.11/dist-packages (from beautifulsoup4) (4.12.2)\n",
            "Requirement already satisfied: requests in /usr/local/lib/python3.11/dist-packages (2.32.3)\n",
            "Requirement already satisfied: charset-normalizer<4,>=2 in /usr/local/lib/python3.11/dist-packages (from requests) (3.4.1)\n",
            "Requirement already satisfied: idna<4,>=2.5 in /usr/local/lib/python3.11/dist-packages (from requests) (3.10)\n",
            "Requirement already satisfied: urllib3<3,>=1.21.1 in /usr/local/lib/python3.11/dist-packages (from requests) (2.3.0)\n",
            "Requirement already satisfied: certifi>=2017.4.17 in /usr/local/lib/python3.11/dist-packages (from requests) (2025.1.31)\n",
            "Requirement already satisfied: lxml in /usr/local/lib/python3.11/dist-packages (5.3.1)\n",
            "Requirement already satisfied: html5lib in /usr/local/lib/python3.11/dist-packages (1.1)\n",
            "Requirement already satisfied: six>=1.9 in /usr/local/lib/python3.11/dist-packages (from html5lib) (1.17.0)\n",
            "Requirement already satisfied: webencodings in /usr/local/lib/python3.11/dist-packages (from html5lib) (0.5.1)\n"
          ]
        }
      ],
      "source": [
        "!pip install beautifulsoup4\n",
        "!pip install requests\n",
        "!pip install lxml\n",
        "!pip install html5lib"
      ]
    },
    {
      "cell_type": "code",
      "source": [
        "from bs4 import BeautifulSoup\n",
        "import requests\n",
        "import lxml\n",
        "import pandas as pd\n",
        "import time\n",
        "import random as ran\n",
        "import sys"
      ],
      "metadata": {
        "id": "GiRkakC_CbEq"
      },
      "execution_count": 71,
      "outputs": []
    },
    {
      "cell_type": "code",
      "source": [
        "url='https://www.imdb.com/search/title/?release_date=2022-01-01,2022-12-31&sort=boxoffice_gross_us,desc'"
      ],
      "metadata": {
        "id": "VxQxN18FCg32"
      },
      "execution_count": 72,
      "outputs": []
    },
    {
      "cell_type": "code",
      "source": [
        "headers = {\n",
        "       'User-Agent': 'Mozilla/5.0 (Windows NT 10.0; Win64; x64) AppleWebKit/537.36 (KHTML, like Gecko) Chrome/108.0.0.0 Safari/537.36'\n",
        "   }"
      ],
      "metadata": {
        "id": "fFfZi6WhFdZr"
      },
      "execution_count": 73,
      "outputs": []
    },
    {
      "cell_type": "code",
      "source": [
        "source = requests.get(url, headers=headers)"
      ],
      "metadata": {
        "id": "BE-44fUWFlSy"
      },
      "execution_count": 74,
      "outputs": []
    },
    {
      "cell_type": "code",
      "source": [
        "source"
      ],
      "metadata": {
        "colab": {
          "base_uri": "https://localhost:8080/"
        },
        "id": "9Phms0pxFoil",
        "outputId": "3547c86a-8473-4d7f-82d3-f650d2f23a5f"
      },
      "execution_count": 75,
      "outputs": [
        {
          "output_type": "execute_result",
          "data": {
            "text/plain": [
              "<Response [200]>"
            ]
          },
          "metadata": {},
          "execution_count": 75
        }
      ]
    },
    {
      "cell_type": "code",
      "source": [
        "soup = BeautifulSoup(source.content,'lxml')"
      ],
      "metadata": {
        "id": "57gGyslVC0NW"
      },
      "execution_count": null,
      "outputs": []
    },
    {
      "cell_type": "code",
      "source": [
        "# Récupération des blocks de films\n",
        "\n",
        "blocs_de_films = soup.find_all('div', {'class': 'sc-f30335b4-0 eefKuM'}) # La variable `blocs_de_films` stocke une liste de tous les blocs de films sur la page. Un bloc de film est un élément HTML qui contient des informations sur un film, telles que le titre, l'année de sortie, le classement IMDb et l'affiche."
      ],
      "metadata": {
        "id": "Am-4naXVDPmJ"
      },
      "execution_count": null,
      "outputs": []
    },
    {
      "cell_type": "code",
      "source": [
        "# Récupérer l'URL du film\n",
        "url_film = blocs_de_films[0].find('a')['href']"
      ],
      "metadata": {
        "id": "6Mg2q5AiSOov"
      },
      "execution_count": null,
      "outputs": []
    },
    {
      "cell_type": "code",
      "source": [
        "if blocs_de_films:\n",
        "    url_film = blocs_de_films[0].find('a')['href']\n",
        "    print(url_film)  # Affichez l'URL du film\n",
        "else:\n",
        "    print(\"Aucun bloc de film trouvé.\")"
      ],
      "metadata": {
        "id": "qQFI1P3EXEW9"
      },
      "execution_count": null,
      "outputs": []
    },
    {
      "cell_type": "code",
      "source": [
        "if blocs_de_films:\n",
        "    url_film = 'https://www.imdb.com' + blocs_de_films[0].find('a')['href']\n",
        "    print(url_film)\n",
        "else:\n",
        "    print(\"Aucun bloc de film trouvé.\")"
      ],
      "metadata": {
        "id": "rqJLE5anXdFR"
      },
      "execution_count": null,
      "outputs": []
    },
    {
      "cell_type": "code",
      "source": [
        "# Récupération des blocks de films\n",
        "blocs_de_films = soup.find_all('div', {'class': 'sc-f30335b4-0 eefKuM'})\n",
        "\n",
        "# Extraction des informations pour le premier film (blocs_de_films[0])\n",
        "nom_film = blocs_de_films[0].find('a').text\n",
        "annee_film = blocs_de_films[0].find_all('span', class_='sc-f30335b4-7')[0].text\n",
        "duree_film = blocs_de_films[0].find_all('span', class_='sc-f30335b4-7')[1].text\n",
        "genre = blocs_de_films[0].find_all('span', class_='sc-f30335b4-7')[2].text\n",
        "note_imdb = blocs_de_films[0].find('span', class_='ipc-rating-star--rating').text\n",
        "meta_score = blocs_de_films[0].find('span', class_='sc-b0901df4-0 bXIOoL metacritic-score-box').text\n",
        "\n",
        "print(f\"Nom du film: {nom_film}\")\n",
        "print(f\"Année de sortie: {annee_film}\")\n",
        "print(f\"Durée du film: {duree_film}\")\n",
        "print(f\"Genre: {genre}\")\n",
        "print(f\"Note IMDB: {note_imdb}\")\n",
        "print(f\"MetaScore: {meta_score}\")"
      ],
      "metadata": {
        "id": "xpxPZ75BedVr"
      },
      "execution_count": null,
      "outputs": []
    },
    {
      "cell_type": "code",
      "source": [
        "# Afficher tous les détails du film\n",
        "print(\"URL du film : \" + url_film,\n",
        "      \"\\nNom du film : \" + nom_film,\n",
        "      \"\\nAnnée de sortie du film : \" + str(annee_film),\n",
        "      \"\\nGenre : \" + genre,\n",
        "      \"\\nNote IMDB : \" + str(note_imdb),\n",
        "      \"\\nMetaScore : \" + str(meta_score)\n",
        "      )"
      ],
      "metadata": {
        "id": "mODf8FvjJAgv"
      },
      "execution_count": null,
      "outputs": []
    },
    {
      "cell_type": "code",
      "source": [
        "def recuperer_details_film(blocs_de_films):\n",
        "    \"\"\"\n",
        "    Récupère les détails d'un film à partir du bloc de données HTML fourni.\n",
        "\n",
        "    Paramètres :\n",
        "        blocs_de_films (bs4.element.Tag) : Le bloc HTML contenant les détails du film.\n",
        "\n",
        "    Retourne :\n",
        "        dict : Un dictionnaire contenant les détails du film. Les clés du dictionnaire sont :\n",
        "            - 'nom' : Le nom unique du film.\n",
        "            - 'annee_sortie' : L'année de sortie du film.\n",
        "            - 'genre' : Le genre du film.\n",
        "            - 'duree' : La durée du film.\n",
        "            - 'note_imdb' : La note IMDB du film.\n",
        "    \"\"\"\n",
        "\n",
        "    # Initialiser un dictionnaire pour stocker les données du film\n",
        "    donnees_film = {}\n",
        "\n",
        "    # Récupérer le nom du film\n",
        "    try:\n",
        "        donnees_film['nom'] = blocs_de_films.find('a').get_text()\n",
        "    except:\n",
        "        donnees_film['nom'] = None\n",
        "\n",
        "    # Récupérer l'année de sortie du film\n",
        "    try:\n",
        "        donnees_film['annee_sortie'] = blocs_de_films.find_all('span', class_='sc-f30335b4-7')[0].text\n",
        "    except:\n",
        "        donnees_film['annee_sortie'] = None\n",
        "\n",
        "    # Récupérer le genre du film\n",
        "    try:\n",
        "        donnees_film['genre'] = blocs_de_films.find_all('span', class_='sc-f30335b4-7')[2].text\n",
        "    except:\n",
        "        donnees_film['genre'] = None\n",
        "\n",
        "    # Récupérer la durée du film\n",
        "    try:\n",
        "        donnees_film['duree'] = blocs_de_films.find_all('span', class_='sc-f30335b4-7')[1].text\n",
        "    except:\n",
        "        donnees_film['duree'] = None\n",
        "\n",
        "    # Récupérer la note IMDb du film\n",
        "    try:\n",
        "        donnees_film['note_imdb'] = blocs_de_films.find('span', class_='ipc-rating-star--rating').text\n",
        "    except:\n",
        "        donnees_film['note_imdb'] = None\n",
        "    try:\n",
        "        donnees_film['meta_score'] = blocs_de_films.find('span', class_='sc-b0901df4-0 bXIOoL metacritic-score-box').text\n",
        "    except:\n",
        "        donnees_film['meta_score'] = None\n",
        "\n",
        "    # Retourner le dictionnaire contenant les détails du film\n",
        "    return donnees_film"
      ],
      "metadata": {
        "id": "6j4UV6zwJBvM"
      },
      "execution_count": null,
      "outputs": []
    },
    {
      "cell_type": "code",
      "source": [
        "def extraire_donnees_page_films(blocs_de_films):\n",
        "    \"\"\"\n",
        "    Extrait les détails de chaque film à partir des blocs de données HTML de la page.\n",
        "\n",
        "    Paramètres :\n",
        "        blocs_de_films (list) : Une liste des blocs HTML contenant les détails de chaque film.\n",
        "\n",
        "    Retourne :\n",
        "        list : Une liste de dictionnaires, chaque dictionnaire contenant les détails d'un film.\n",
        "            Les clés du dictionnaire sont :\n",
        "            - 'nom' : Le nom unique du film.\n",
        "            - 'annee_sortie' : L'année de sortie du film.\n",
        "            - 'genre' : Le genre du film.\n",
        "            - 'duree' : La durée du film.\n",
        "            - 'note_imdb' : La note IMDB du film.\n",
        "    \"\"\"\n",
        "\n",
        "    liste_donnees_films = []  # Initialiser une liste pour stocker les détails de chaque film\n",
        "    nb_blocs = len(blocs_de_films)\n",
        "\n",
        "    for i in range(nb_blocs):\n",
        "        # Appeler la fonction récupérant les détails du film pour chaque bloc de films\n",
        "        donnees_film = recuperer_details_film(blocs_de_films[i])\n",
        "\n",
        "        # Ajouter les détails du film à la liste des données de la page\n",
        "        liste_donnees_films.append(donnees_film)\n",
        "\n",
        "    return liste_donnees_films"
      ],
      "metadata": {
        "id": "jMe759HiJQFW"
      },
      "execution_count": null,
      "outputs": []
    },
    {
      "cell_type": "code",
      "source": [
        "def extraire_donnees_films_par_lien(url, cible):\n",
        "    \"\"\"\n",
        "    Extrait les détails des films à partir d'un lien donné jusqu'à atteindre la cible de films.\n",
        "\n",
        "    Paramètres :\n",
        "        url (str) : L'URL de la page à partir de laquelle extraire les détails des films.\n",
        "        cible (int) : Le nombre total de films que l'on souhaite extraire.\n",
        "\n",
        "    Retourne :\n",
        "        list : Une liste de dictionnaires, chaque dictionnaire contenant les détails d'un film.\n",
        "            Les clés du dictionnaire sont :\n",
        "            - 'nom' : Le nom unique du film.\n",
        "            - 'annee_sortie' : L'année de sortie du film.\n",
        "            - 'genre' : Le genre du film.\n",
        "            - 'duree' : La durée du film.\n",
        "            - 'note_imdb' : La note IMDB du film.\n",
        "    \"\"\"\n",
        "\n",
        "    url_base = url\n",
        "    cible_films = cible\n",
        "\n",
        "    m_compte_debut_actuel = 0\n",
        "    m_compte_fin_actuel = 0\n",
        "    m_compte_restant = cible_films - m_compte_fin_actuel\n",
        "\n",
        "    numero_nouvelle_page = 1\n",
        "\n",
        "    donnees_films = []  # Initialiser une liste pour stocker les détails de chaque film\n",
        "\n",
        "    while m_compte_restant > 0:\n",
        "        url_complete = url_base + '&start=' + str(numero_nouvelle_page) # construct the full URL using '&start=' for pagination\n",
        "\n",
        "        # Récupérer le contenu HTML de la page\n",
        "        source = requests.get(url_complete).text\n",
        "        soup = BeautifulSoup(source, 'html.parser')\n",
        "\n",
        "        # Trouver tous les blocs de films sur la page\n",
        "        blocs_de_films = soup.find_all('div', {'class': 'sc-f30335b4-0 eefKuM'}) # Use \"lister-item mode-advanced\" as the selector\n",
        "        print(blocs_de_films)\n",
        "\n",
        "        # Appeler la fonction extraire_donnees_page_films pour chaque page de films\n",
        "        donnees_page_films = extraire_donnees_page_films(blocs_de_films)\n",
        "\n",
        "        # Ajouter les détails des films à la liste de données des films\n",
        "        donnees_films.extend(donnees_page_films)\n",
        "\n",
        "        # Mettre à jour les compteurs actuels et le nombre de films restants à extraire\n",
        "        # Extract the relevant pagination information:\n",
        "\n",
        "        # Find the navigation bar <div class=\"desc\"> element\n",
        "        desc_div = soup.find(\"span\", {\"class\": \"ipc-see-more__text\"})\n",
        "        print(desc_div)\n",
        "        if desc_div: # Make sure desc_div exists before proceeding\n",
        "            # Get the text content of the desc_div\n",
        "            desc_text = desc_div.get_text(strip=True)\n",
        "            # Try to extract the start and end values\n",
        "            try:\n",
        "                m_compte_debut_actuel, m_compte_fin_actuel = map(int, desc_text.split(\"–\")[0].split(\"-\")[0].strip().split(\" \")[-1], desc_text.split(\"–\")[1].split(\" \")[0].strip())\n",
        "            except (IndexError, ValueError):\n",
        "                # Error handling if the formatting has changed. Stop the scraping.\n",
        "                print(f\"Unable to parse pagination information from '{desc_text}'\")\n",
        "                break\n",
        "            m_compte_restant = cible_films - m_compte_fin_actuel\n",
        "        else:\n",
        "            print(\"Pagination information not found.\")\n",
        "            break\n",
        "\n",
        "        # Afficher l'état actuel de l'extraction des films\n",
        "        print('\\r' + \"Extraction des films en cours : \" + str(m_compte_debut_actuel) + \" - \"+ str(m_compte_fin_actuel), \"| Restant : \" + str(m_compte_restant), flush=True, end=\"\")\n",
        "\n",
        "        numero_nouvelle_page += 50 # Update pagination according to IMDB structure\n",
        "\n",
        "        # Attendre un certain temps aléatoire avant de récupérer la prochaine page (pour éviter de surcharger le serveur)\n",
        "        time.sleep(ran.randint(0, 10))\n",
        "\n",
        "    return donnees_films"
      ],
      "metadata": {
        "id": "fcWlb1DFJWdJ"
      },
      "execution_count": null,
      "outputs": []
    },
    {
      "cell_type": "code",
      "source": [
        "base_scraping_link = \"https://www.imdb.com/search/title/?title_type=feature&release_date=2022-01-01,2022-12-31&sort=boxoffice_gross_us,desc\"\n",
        "\n",
        "top_movies = 300  # Nombre de films à extraire\n",
        "\n",
        "# Appeler la fonction pour extraire les détails des films à partir du lien de base et avec le nombre de films cible\n",
        "films = extraire_donnees_films_par_lien(base_scraping_link, top_movies)"
      ],
      "metadata": {
        "id": "QUwxHmdhJwyF"
      },
      "execution_count": null,
      "outputs": []
    },
    {
      "cell_type": "code",
      "source": [
        "movies_df.to_csv('movies_df.csv')"
      ],
      "metadata": {
        "id": "tJF8y-koJx3N"
      },
      "execution_count": null,
      "outputs": []
    }
  ]
}